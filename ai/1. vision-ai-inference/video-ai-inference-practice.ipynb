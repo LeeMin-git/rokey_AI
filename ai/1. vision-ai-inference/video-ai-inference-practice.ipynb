{
 "cells": [
  {
   "cell_type": "code",
   "execution_count": 19,
   "metadata": {},
   "outputs": [],
   "source": [
    "import requests\n",
    "from requests.auth import HTTPBasicAuth\n",
    "import cv2"
   ]
  },
  {
   "cell_type": "code",
   "execution_count": 20,
   "metadata": {},
   "outputs": [],
   "source": [
    "URL = \"https://suite-endpoint-api-apne2.superb-ai.com/endpoints/12f80a0d-9fe2-44bd-948a-5f191671c333/inference\"\n",
    "ACCESS_KEY = \"WpML0KMYxjSAzChtIdDNaXWQTpPQwmW7utBS02L2\"\n",
    "TEAM_NAME = 'kdt2024_1-12'"
   ]
  },
  {
   "cell_type": "code",
   "execution_count": 21,
   "metadata": {},
   "outputs": [],
   "source": [
    "IMAGE_FILE_PATH = \"../0.jpg\" # 이미지 하나"
   ]
  },
  {
   "cell_type": "code",
   "execution_count": 22,
   "metadata": {},
   "outputs": [],
   "source": [
    "image = open(IMAGE_FILE_PATH, \"rb\").read()"
   ]
  },
  {
   "cell_type": "code",
   "execution_count": 24,
   "metadata": {},
   "outputs": [],
   "source": [
    "response = requests.post(\n",
    "    url=URL,\n",
    "    auth=HTTPBasicAuth(TEAM_NAME, ACCESS_KEY),\n",
    "    headers={\"Content-Type\": \"image/jpeg\"},\n",
    "    data=image,\n",
    ")"
   ]
  },
  {
   "cell_type": "code",
   "execution_count": 25,
   "metadata": {},
   "outputs": [
    {
     "name": "stdout",
     "output_type": "stream",
     "text": [
      "[{'class': 'RASPBERRY PICO', 'score': 0.9082220792770386, 'box': [230, 276, 400, 615]}, {'class': 'USB', 'score': 0.7800902128219604, 'box': [264, 559, 316, 606]}, {'class': 'BOOTCEL', 'score': 0.6794454455375671, 'box': [310, 503, 337, 539]}, {'class': 'CHIPSET', 'score': 0.6640568971633911, 'box': [290, 410, 341, 458]}, {'class': 'OSCILLATOR', 'score': 0.5922102332115173, 'box': [326, 376, 351, 397]}, {'class': 'HOLE', 'score': 0.392065167427063, 'box': [367, 299, 381, 311]}, {'class': 'BOOTCEL', 'score': 0.2710712254047394, 'box': [324, 507, 340, 537]}]\n"
     ]
    }
   ],
   "source": [
    "result = response.json()['objects']\n",
    "print(result)"
   ]
  },
  {
   "cell_type": "code",
   "execution_count": 26,
   "metadata": {},
   "outputs": [
    {
     "ename": "KeyboardInterrupt",
     "evalue": "",
     "output_type": "error",
     "traceback": [
      "\u001b[0;31m---------------------------------------------------------------------------\u001b[0m",
      "\u001b[0;31mKeyboardInterrupt\u001b[0m                         Traceback (most recent call last)",
      "Cell \u001b[0;32mIn[26], line 40\u001b[0m\n\u001b[1;32m     34\u001b[0m     class_start_point[\u001b[38;5;241m1\u001b[39m] \u001b[38;5;241m+\u001b[39m\u001b[38;5;241m=\u001b[39m \u001b[38;5;241m10\u001b[39m\n\u001b[1;32m     39\u001b[0m cv2\u001b[38;5;241m.\u001b[39mimshow(\u001b[38;5;124m'\u001b[39m\u001b[38;5;124morigin\u001b[39m\u001b[38;5;124m'\u001b[39m,img)\n\u001b[0;32m---> 40\u001b[0m \u001b[43mcv2\u001b[49m\u001b[38;5;241;43m.\u001b[39;49m\u001b[43mwaitKey\u001b[49m\u001b[43m(\u001b[49m\u001b[38;5;241;43m10000\u001b[39;49m\u001b[43m)\u001b[49m\n\u001b[1;32m     41\u001b[0m cv2\u001b[38;5;241m.\u001b[39mdestroyAllWindows()\n",
      "\u001b[0;31mKeyboardInterrupt\u001b[0m: "
     ]
    },
    {
     "ename": "",
     "evalue": "",
     "output_type": "error",
     "traceback": [
      "\u001b[1;31mThe Kernel crashed while executing code in the current cell or a previous cell. \n",
      "\u001b[1;31mPlease review the code in the cell(s) to identify a possible cause of the failure. \n",
      "\u001b[1;31mClick <a href='https://aka.ms/vscodeJupyterKernelCrash'>here</a> for more info. \n",
      "\u001b[1;31mView Jupyter <a href='command:jupyter.viewOutput'>log</a> for further details."
     ]
    }
   ],
   "source": [
    "import cv2\n",
    "\n",
    "img_path = '../0.jpg'\n",
    "\n",
    "img = cv2.imread(img_path)\n",
    "a,b=0,20\n",
    "color= [0,0,255]\n",
    "thinkness=1\n",
    "name = ''\n",
    "x1,y1=0,0\n",
    "x2,y2=0,0\n",
    "font=cv2.FONT_HERSHEY_COMPLEX\n",
    "font_scale = 1\n",
    "class_cnt = {'RASPBERRY PICO':0,'CHIPSET':0,\n",
    "             'USB':0,'HOLE':0,\n",
    "             'OSCILLATOR':0,'BOOTCEL':0}\n",
    "\n",
    "for i in result:\n",
    "    name = i['class']\n",
    "    class_cnt[name] += 1\n",
    "    x1,y1,x2,y2 = i['box']\n",
    "    start_point1=[x1-a,y1-b]\n",
    "    start_point=[x1,y1]\n",
    "    end_point=[x2,y2]\n",
    "    class_start_point = [0,0]\n",
    "\n",
    "    cv2.rectangle(img,start_point,end_point,color,thickness=thinkness)\n",
    "    cv2.putText(img,name,start_point1,font,font_scale,color,thickness=thinkness) \n",
    "    text = name +':'+str(class_cnt[name])\n",
    "    cv2.putText(img,text,class_start_point,font,font_scale,color,thickness=thinkness)\n",
    "    \n",
    "    color[0] += 50\n",
    "    color[1] += 20\n",
    "    class_start_point[1] += 10\n",
    "\n",
    "\n",
    "\n",
    "\n",
    "cv2.imshow('origin',img)\n",
    "cv2.waitKey(10000)\n",
    "cv2.destroyAllWindows()"
   ]
  }
 ],
 "metadata": {
  "kernelspec": {
   "display_name": "Python 3",
   "language": "python",
   "name": "python3"
  },
  "language_info": {
   "codemirror_mode": {
    "name": "ipython",
    "version": 3
   },
   "file_extension": ".py",
   "mimetype": "text/x-python",
   "name": "python",
   "nbconvert_exporter": "python",
   "pygments_lexer": "ipython3",
   "version": "3.10.12"
  }
 },
 "nbformat": 4,
 "nbformat_minor": 2
}
